{
 "cells": [
  {
   "cell_type": "markdown",
   "id": "4808f7fa",
   "metadata": {
    "id": "4808f7fa"
   },
   "source": [
    "# Python 80/20"
   ]
  },
  {
   "cell_type": "markdown",
   "id": "bf202696",
   "metadata": {
    "id": "bf202696"
   },
   "source": [
    "+ Python es actualmente el lenguage de programación mas utilizado en el mundo. Es además el primer lenguage que se enseña en las universidades.\n",
    "+ Python es la mejor opción para Data Analysis, Machine Learning pero al igual es muy utilizado para juegos, aplicaciones en celulares, plataformas web, api’s y mucho mas.\n",
    "+ El ecosistema de Python es muy amplio. Existen librerías para practicamente todo lo que se pueda pensar. Por ejemplo Pandas, Numpy, SciPy, etc. Adicionalmente existen excelentes frameworks para desarrollo de aplicaciones tales como Django y Flask.\n",
    "+ Python es un lenguage interpretado de alto nivel. Esto significa que no requiere compilación previa del código para poderlo correr como si ocurre con C, C++ o Java.\n",
    "+ Python es simple y fácil, pero a la vez es muy poderoso.\n",
    "\n"
   ]
  },
  {
   "cell_type": "markdown",
   "id": "61565d64",
   "metadata": {
    "id": "61565d64"
   },
   "source": [
    "### Contenido del curso\n",
    "\n",
    "+ Introducción a Python.\n",
    "+ Como instalarlo.\n",
    "+ Como ejecutar instrucciones y programas.\n",
    "+ Lo básico de Python.\n",
    "+ Tipos de datos (data types).\n",
    "+ Operadores.\n",
    "+ Strings, Boleanos, Números.\n",
    "+ Sentencias de control.\n",
    "+ Listas, Tuples, Diccionarios y Sets.\n",
    "+ Funciones.\n",
    "+ Alcance de variables.\n",
    "+ Loops.\n",
    "+ Introducción a programación orientada a objetos en Python.\n",
    "+ Uso de librerías en Python.\n",
    "+ Librería Pandas.\n",
    "+ Uso de Pandas y su interacción con Excel."
   ]
  },
  {
   "cell_type": "markdown",
   "id": "5ddf5d00",
   "metadata": {
    "id": "5ddf5d00"
   },
   "source": [
    "## Instalación\n",
    "\n",
    "Ir a [www.python.org](https://www.python.org) y realizar el download ya sea para Windows, Mac o Linux.\n",
    "Seguir las instrucciones para la instalación.\n",
    "\n",
    "![image.png](https://github.com/python8020/python_chapter_1/blob/main/img/python8020_1_1.png?raw=1)\n",
    "\n",
    "Una vez terminada la instalación abrimos procedemos a correr nuestro primer programa en Python."
   ]
  },
  {
   "cell_type": "markdown",
   "id": "36ab2337",
   "metadata": {
    "id": "36ab2337"
   },
   "source": [
    "### Ejecutar instrucciones y programas\n",
    "\n",
    "Existen varias formas de correr instrucciones y programas en Python. Entre ellas se encuentra el _Modo interactivo_ y _archivos de programa_.\n",
    "El modo interactivo se realiza a través del terrminal o ventana de comandos del sistema operativo llamando a python3.\n",
    "\n",
    "![image.png](https://github.com/python8020/python_chapter_1/blob/main/img/python8020_1_2.png?raw=1)\n",
    "\n",
    "Para crear un programa, solo tenemos que abrir cualquier editor de textos como por ejemplo el block de notas, ecribir nuestros comandos en el, guardarlo con la extensión .py y ejecultarlo desde el terminal o ventana de comandos de la siguiente forma:\n",
    "\n",
    "> python3 miPrueba.py\n",
    "\n",
    "![image-2.png](https://github.com/python8020/python_chapter_1/blob/main/img/python8020_1_3.png?raw=1)\n",
    "![image-3.png](https://github.com/python8020/python_chapter_1/blob/main/img/python8020_1_4.png?raw=1)\n",
    "\n",
    "> En documento nos permite correr instrucciones Python directamente. \n",
    "En la siguiente celda encontrarás un ejemplo. Solo ubica el cursor sobre la celda y ejecuta __run__ desde el menu de arriba como tambien podrás hacerlo tecleando __`[shift][enter]`__"
   ]
  },
  {
   "cell_type": "code",
   "execution_count": null,
   "id": "52ffb78d",
   "metadata": {
    "id": "52ffb78d"
   },
   "outputs": [],
   "source": [
    "print('Hola Mundo!')"
   ]
  },
  {
   "cell_type": "markdown",
   "id": "21ed6037",
   "metadata": {
    "id": "21ed6037"
   },
   "source": [
    "> De manera informativa el material de este curso esta elaborado completamente con _jupyter notebook_. Para mas informacion haz click [aqui](https://jupyter.org/)"
   ]
  },
  {
   "cell_type": "markdown",
   "id": "e001a740",
   "metadata": {
    "id": "033a904d"
   },
   "source": [
    "## Lo Básico de Python"
   ]
  },
  {
   "cell_type": "markdown",
   "id": "9b6a6a59",
   "metadata": {},
   "source": [
    "Variables en Python: Podemos crear una variable asignandole un valor a una etiqueta usando el operador de asignación `=`\n",
    "\n",
    "\tmiNombre = \"Luis\"\n",
    "\tedad = 65\n",
    "    \n",
    " \n",
    "Nombres de variables pueden estar compuestos por letras, números y el _ carácter underscore, por ejemplo:\n",
    "\n",
    "\tname1\n",
    "\tEDAD\n",
    "\tEdaD\n",
    "\tmi_nombre\n",
    "\t_nombre\n",
    "\t_\n",
    "    \n",
    "Los comentarios están precedidos por un #\n",
    "\n",
    "`# Esto es un comentario`\n",
    "\n",
    "_Sangría en Python: La sangría (indentation) en Python tiene significado y es muy importante. Por convenimiento los bloques se deben indentar con cuatro espacios o un tab. Esto lo veremos con mas detalle cuando veamos las sentencias de control, funciones, loops y clases. Por lo pronto recordemos que es importante tenerlo presente._\n",
    "\n",
    "\n",
    "Estos son ejemplos de variables inválidas: \n",
    "\n",
    "    123 test! \n",
    "    nombre%\n",
    "\n",
    "Adicionalmente no pueden ser utilizados como nombres palabras clave de Python, tales como: for, if, while, import, etc. Python emitirá un alerta cuando un nombre de variable coincida con una palabra clave.\n",
    "\n",
    "Declaraciones (statements): Una declaración es una operación sobre un valor: \n",
    "\n",
    "    nombre = \"María\" \n",
    "    print(nombre)\n",
    "\n",
    "Un programa está compuesto por una serie de declaraciones. Cada una está en una linea pero tambien pueden separarse con un `;`\n",
    "\n",
    "    nombre=\"María\"; print(nombre)\n"
   ]
  },
  {
   "cell_type": "markdown",
   "id": "6eccb444",
   "metadata": {},
   "source": [
    "## Tipo de datos (Data Types)"
   ]
  },
  {
   "cell_type": "markdown",
   "id": "44b5cd1d",
   "metadata": {},
   "source": [
    "Python tiene incorporados (built-in) varios tipo de datos. Si asignamos el valor \"New York\"  a un nombre de variable, automáticamente esa variable representa un tipo de datos String."
   ]
  },
  {
   "cell_type": "code",
   "execution_count": null,
   "id": "7c85dc91",
   "metadata": {},
   "outputs": [],
   "source": [
    "nombreCiudad = \"New York\""
   ]
  },
  {
   "cell_type": "markdown",
   "id": "3739bebf",
   "metadata": {},
   "source": [
    "Podemos obtener el tipo de datos de una variable con la función type() pasando como argumento el nombre de la variable. También podemos usar la función isinstance()"
   ]
  },
  {
   "cell_type": "code",
   "execution_count": null,
   "id": "84199910",
   "metadata": {},
   "outputs": [],
   "source": [
    "print(\"El tipo de datos de nombreCiudad es:\", type(nombreCiudad))"
   ]
  },
  {
   "cell_type": "markdown",
   "id": "4e78b7ea",
   "metadata": {},
   "source": [
    "> En Python todos los tipos de datos son instancias de una clase (veremos clases/instancias mas adelante)"
   ]
  },
  {
   "cell_type": "code",
   "execution_count": null,
   "id": "92c65f1c",
   "metadata": {},
   "outputs": [],
   "source": [
    "type(nombreCiudad) == str"
   ]
  },
  {
   "cell_type": "code",
   "execution_count": null,
   "id": "0fbd2d23",
   "metadata": {},
   "outputs": [],
   "source": [
    "isinstance(nombreCiudad, str)"
   ]
  },
  {
   "cell_type": "markdown",
   "id": "03a4b935",
   "metadata": {},
   "source": [
    "Lo visto anteriomente también aplica a otros tipo de datos como por ejemplo `int` o `float`.\n",
    "Python detecta automáticamente el tipo de datos en el momento de la asignación de la variable.\n"
   ]
  },
  {
   "cell_type": "code",
   "execution_count": null,
   "id": "f61bb30b",
   "metadata": {},
   "outputs": [],
   "source": [
    "cantidadHabitantes = 8000000"
   ]
  },
  {
   "cell_type": "code",
   "execution_count": null,
   "id": "c3759787",
   "metadata": {},
   "outputs": [],
   "source": [
    "type(cantidadHabitantes)"
   ]
  },
  {
   "cell_type": "code",
   "execution_count": null,
   "id": "3b426456",
   "metadata": {},
   "outputs": [],
   "source": [
    "isinstance(cantidadHabitantes, int)"
   ]
  },
  {
   "cell_type": "code",
   "execution_count": null,
   "id": "a71db4ae",
   "metadata": {},
   "outputs": [],
   "source": [
    "esperanzaDeVida = 78.79"
   ]
  },
  {
   "cell_type": "code",
   "execution_count": null,
   "id": "d4127558",
   "metadata": {},
   "outputs": [],
   "source": [
    "type(esperanzaDeVida) == float"
   ]
  },
  {
   "cell_type": "markdown",
   "id": "2490db86",
   "metadata": {},
   "source": [
    "> El operador de asignación es un símbolo `=` el y de igualación es `==`"
   ]
  },
  {
   "cell_type": "markdown",
   "id": "bc885eb2",
   "metadata": {},
   "source": [
    "Se puede crear una variable de un tipo específico utilizando el constructor de la clase y pasándole como parámetro el nombre de la variable."
   ]
  },
  {
   "cell_type": "code",
   "execution_count": null,
   "id": "4c007455",
   "metadata": {},
   "outputs": [],
   "source": [
    "ciudadFavorita = str(nombreCiudad)"
   ]
  },
  {
   "cell_type": "code",
   "execution_count": null,
   "id": "1a0b96ea",
   "metadata": {},
   "outputs": [],
   "source": [
    "ciudadFavorita"
   ]
  },
  {
   "cell_type": "markdown",
   "id": "62cae328",
   "metadata": {},
   "source": [
    "Tambien podemos convertir un tipo en otro. A esto se le llama _Casting_.\n",
    "Por ejemplo `float(\"78.79\")` donde creamos un tipo float a partir de un string."
   ]
  },
  {
   "cell_type": "code",
   "execution_count": null,
   "id": "e6e9f1d1",
   "metadata": {},
   "outputs": [],
   "source": [
    "esperanzaDeVida = float(\"78.79\")"
   ]
  },
  {
   "cell_type": "markdown",
   "id": "96fa27ec",
   "metadata": {},
   "source": [
    "o un tipo int a partir de un float"
   ]
  },
  {
   "cell_type": "code",
   "execution_count": null,
   "id": "3927f81b",
   "metadata": {},
   "outputs": [],
   "source": [
    "int(esperanzaDeVida)"
   ]
  },
  {
   "cell_type": "markdown",
   "id": "2f66f8c7",
   "metadata": {},
   "source": [
    "Además de los tipos básicos también Python ofrece muchos otros. \n",
    "Entre ellos: complex para números complejos, bool para boleanos, list para listas o arreglos, tuple para tuples, range para rangos, set para sets. Pronto veremos mas sobre estos tipos de datos.\n"
   ]
  },
  {
   "cell_type": "markdown",
   "id": "a2a8b34f",
   "metadata": {},
   "source": [
    "## Operadores en Python"
   ]
  },
  {
   "cell_type": "markdown",
   "id": "c8f86cf3",
   "metadata": {},
   "source": [
    "Los operadores de Python son símbolos que usamos para ejecutar operaciones sobre valores y variables.\n",
    "\n",
    "Podemos dividir a los operadores según el tipo de operación que realizan:\n",
    "\n",
    "- operador de asignación\n",
    "- operadores aritméticos\n",
    "- operadores de comparación\n",
    "- operadores lógicos\n",
    "- operadores bit a bit\n",
    "\n",
    "además de algunos interesantes como `is` e `in`.\n",
    "\n",
    "#### Operador de asignacion:\n",
    "\n",
    "Es utilizado para asignar un valor a una variable (el valor puede ser otra variable)."
   ]
  },
  {
   "cell_type": "code",
   "execution_count": null,
   "id": "ef204595",
   "metadata": {},
   "outputs": [],
   "source": [
    "nombre = \"Maria\"\n",
    "otroNombre = nombre\n",
    "print(nombre)"
   ]
  },
  {
   "cell_type": "markdown",
   "id": "271bc338",
   "metadata": {},
   "source": [
    "#### Operadores aritméticos:\n",
    "\n",
    "Python tiene varios operadores aritméticos: +, -, *, / (división), % (resto), ** (exponenciación) y // (división de piso o redondeo a entero mas cercano)."
   ]
  },
  {
   "cell_type": "code",
   "execution_count": null,
   "id": "df28decb",
   "metadata": {},
   "outputs": [],
   "source": [
    "1 + 1"
   ]
  },
  {
   "cell_type": "code",
   "execution_count": null,
   "id": "28c814bc",
   "metadata": {},
   "outputs": [],
   "source": [
    "4 % 3"
   ]
  },
  {
   "cell_type": "code",
   "execution_count": null,
   "id": "071d1024",
   "metadata": {},
   "outputs": [],
   "source": [
    "5 // 4"
   ]
  },
  {
   "cell_type": "markdown",
   "id": "24df4d03",
   "metadata": {},
   "source": [
    "El operador `+` también sirve para concatenar valores String:"
   ]
  },
  {
   "cell_type": "code",
   "execution_count": null,
   "id": "01e0789c",
   "metadata": {},
   "outputs": [],
   "source": [
    "nombre = \"Abril\"\n",
    "apellido = \"Perez\"\n",
    "nombres = nombre + \" \" +  apellido\n",
    "print(nombres)"
   ]
  },
  {
   "cell_type": "markdown",
   "id": "f7260acd",
   "metadata": {},
   "source": [
    "Podemos combinar el operador de asignación con operadores aritméticos: `+=`  `-=`  `*=`  `/=`  `%=`"
   ]
  },
  {
   "cell_type": "code",
   "execution_count": null,
   "id": "4bd77540",
   "metadata": {},
   "outputs": [],
   "source": [
    "edad = 28\n",
    "edad += 1\n",
    "print(edad)"
   ]
  },
  {
   "cell_type": "markdown",
   "id": "1b4f5a94",
   "metadata": {},
   "source": [
    ">`edad = edad +1` es equivalente a `edad += 1`"
   ]
  },
  {
   "cell_type": "markdown",
   "id": "1fb861da",
   "metadata": {},
   "source": [
    "#### Orden de prioridad en las operaciones aitméticas:\n",
    "\n",
    "El orden de prioridad sería el siguiente para los operadores aritméticos, siendo el primero el de mayor prioridad:\n",
    "\n",
    "`()` Paréntesis\n",
    "\n",
    "`**` Exponente\n",
    "\n",
    "`-x` Negación\n",
    "\n",
    "`*` `/` `//` `%` Multiplicación, División, Cociente, Módulo\n",
    "\n",
    "`+` `-` Suma, Resta"
   ]
  },
  {
   "cell_type": "code",
   "execution_count": null,
   "id": "2f88c73f",
   "metadata": {},
   "outputs": [],
   "source": [
    "n = 4 / 2 + (10 + 2 / 2) * 8"
   ]
  },
  {
   "cell_type": "markdown",
   "id": "070ab9ac",
   "metadata": {},
   "source": [
    "#### Operadores de comparación:\n",
    "\n",
    "Python define varios operadores de comparación: `==`  `!=`  `>`  `<`  `>=`  `<=` \n",
    "Estos operadores siempre devuelven un valor boleano (True o False)"
   ]
  },
  {
   "cell_type": "code",
   "execution_count": null,
   "id": "c7c55426",
   "metadata": {},
   "outputs": [],
   "source": [
    "a = 1\n",
    "b = 2"
   ]
  },
  {
   "cell_type": "code",
   "execution_count": null,
   "id": "adf68771",
   "metadata": {},
   "outputs": [],
   "source": [
    "a == b"
   ]
  },
  {
   "cell_type": "code",
   "execution_count": null,
   "id": "42480e5e",
   "metadata": {},
   "outputs": [],
   "source": [
    "a <= b"
   ]
  },
  {
   "cell_type": "markdown",
   "id": "d397b0a8",
   "metadata": {},
   "source": [
    "#### Operadores Booleanos:\n",
    "\n",
    "Estos son `not`  `and`  y  `or`\n",
    "\n",
    "se utilizan a menudo en la evaluación de la expresión condicional `if` la cual veremos luego.\n",
    "\n"
   ]
  },
  {
   "cell_type": "markdown",
   "id": "e580cad9",
   "metadata": {},
   "source": [
    "#### is e in en Python:\n",
    "\n",
    "`is` se denomina como operador de identidad. Se utiliza para comparar dos objetos y devuelve verdadero `True` si ambos son el mismo objeto. Los veremos mas adelante.\n",
    "\n",
    "`in` se denomina como operador de pertenencia. Se utiliza para saber si un valor está contenido en una lista o en otra secuencia. Más adelante los veremos cuando veamos listas y otras secuencias."
   ]
  },
  {
   "cell_type": "markdown",
   "id": "1dbbc458",
   "metadata": {},
   "source": [
    "## Strings, Boleanos, Numeros"
   ]
  },
  {
   "cell_type": "markdown",
   "id": "0f6438f5",
   "metadata": {},
   "source": [
    "### Strings:\n",
    "\n",
    "Un String en Python es una serie de caracteres entre comillas o comillas dobles.\n",
    "\n",
    "Se pueden concatenar dos o mas strings utilizando el operador `+`"
   ]
  },
  {
   "cell_type": "code",
   "execution_count": null,
   "id": "238652b9",
   "metadata": {},
   "outputs": [],
   "source": [
    "frase = \"Hola\" + \" \" + \"Mundo\""
   ]
  },
  {
   "cell_type": "markdown",
   "id": "a516b393",
   "metadata": {},
   "source": [
    "Se puede agregar a un string usando `+=`"
   ]
  },
  {
   "cell_type": "code",
   "execution_count": null,
   "id": "975ebb26",
   "metadata": {},
   "outputs": [],
   "source": [
    "frase += \" ! \"\n",
    "print(frase)"
   ]
  },
  {
   "cell_type": "markdown",
   "id": "ea4d3fd9",
   "metadata": {},
   "source": [
    "Se puede convertir un número en una cadena usando el constructor de clase `str`"
   ]
  },
  {
   "cell_type": "code",
   "execution_count": null,
   "id": "a521e268",
   "metadata": {},
   "outputs": [],
   "source": [
    "print(\"Yo nací en \" + str(1956))"
   ]
  },
  {
   "cell_type": "markdown",
   "id": "6b9efe70",
   "metadata": {},
   "source": [
    "#### Python f-Strings\n",
    "\n",
    "Al usar f-Strings para mostrar variables, solo necesita especificar los nombres de las variables dentro de un conjunto de llaves {}. En tiempo de ejecución, todos los nombres de variables serán reemplazados con sus respectivos valores.\n",
    "\n",
    "La sintaxis se muestra a continuación:\n",
    "\n",
    "`f\"Este es un f-String {var_name} y {var_name}\"`.\n"
   ]
  },
  {
   "cell_type": "code",
   "execution_count": null,
   "id": "ec5811aa",
   "metadata": {},
   "outputs": [],
   "source": [
    "lenguaje = \"Python\"\n",
    "curso = \"Python 80/20\"\n",
    "instructor = \"Luis\"\n",
    "print(f\"Estoy aprendiendo {lenguaje} con el curso {curso} dictado por {instructor}.\")\n"
   ]
  },
  {
   "cell_type": "markdown",
   "id": "e700296e",
   "metadata": {},
   "source": [
    "Un string tiene un conjunto de métodos integrados, como:\n",
    "\n",
    "    isalpha() para verificar si una cadena contiene solo caracteres alfabéticos y no está vacía\n",
    "    isdecimal() para verificar si una cadena contiene dígitos y no está vacía\n",
    "    lower() para obtener una versión en minúsculas de una cadena\n",
    "    islower() para verificar si una cadena está en minúsculas\n",
    "    upper() para obtener una versión en mayúsculas de una cadena\n",
    "    isupper() para verificar si una cadena está en mayúsculas\n",
    "    title() Para poner la primera letra en mayúsculas y el resto en munúsculas en cada palabra\n",
    "    replace() para reemplazar una parte de una cadena\n",
    "    split() para dividir una cadena en un separador de caracteres específico. Devuelve una lista.\n",
    "    strip() para recortar el espacio en blanco de una cadena\n",
    "    find() para encontrar la posición de una subcadena\n",
    "\n",
    "Y muchos mas ...\n"
   ]
  },
  {
   "cell_type": "code",
   "execution_count": null,
   "id": "07f7d595",
   "metadata": {},
   "outputs": [],
   "source": [
    "miNombre = 'andres ignacio perez armas'\n",
    "miNombre = miNombre.replace('perez','pérez').replace('andres','andrés')\n",
    "print(miNombre.title())"
   ]
  },
  {
   "cell_type": "code",
   "execution_count": null,
   "id": "11227c7b",
   "metadata": {},
   "outputs": [],
   "source": [
    "\"New York City\".find(\"Y\")"
   ]
  },
  {
   "cell_type": "markdown",
   "id": "9648a5df",
   "metadata": {},
   "source": [
    ">Las series en Python comienzan a referenciarse desde la posición cero. En este caso el carácter que ocupa la posicion 4 es ‘Y'."
   ]
  },
  {
   "cell_type": "markdown",
   "id": "4345f975",
   "metadata": {},
   "source": [
    "#### String slicing:\n",
    "\n",
    "Podemos substraer una seccion de un string. La sintaxis es:\n",
    "`string.[posComienzo : posFinal + 1]`"
   ]
  },
  {
   "cell_type": "code",
   "execution_count": null,
   "id": "79d01a20",
   "metadata": {},
   "outputs": [],
   "source": [
    "\"New York City\"[4:8] "
   ]
  },
  {
   "cell_type": "markdown",
   "id": "0480ca7b",
   "metadata": {},
   "source": [
    "#### Booleans: \n",
    "\n",
    "Python proporciona el tipo bool, que puede tener dos valores: `True` y `False` (en mayúsculas).\n",
    "\n",
    "Los booleanos son especialmente útiles con estructuras de control condicional como declaraciones if:\n",
    "\n",
    "> La sentencia `if` la veremos luego en mas detalle, por ahora entendamos que los booleanos son parte fundamental de la sentencia if."
   ]
  },
  {
   "cell_type": "code",
   "execution_count": null,
   "id": "c08ac862",
   "metadata": {},
   "outputs": [],
   "source": [
    "listo = True\n",
    "\n",
    "if listo:\n",
    "    # corre este código\n",
    "    print('está listo')\n",
    "else:\n",
    "    # corre este otro código\n",
    "    print('no está listo')"
   ]
  },
  {
   "cell_type": "markdown",
   "id": "74770316",
   "metadata": {},
   "source": [
    "#### Numbers: \n",
    "\n",
    "Los números  (Numbers) en Python pueden ser de 3 tipos: `int`, `float` y `complex`.\n",
    "\n",
    "Integers: Los números enteros se representan usando la clase int."
   ]
  },
  {
   "cell_type": "code",
   "execution_count": null,
   "id": "eee27e2b",
   "metadata": {},
   "outputs": [],
   "source": [
    "edad = 30\n",
    "edad = int(30)\n",
    "edad = int(\"30\")\n",
    "print(f\"El tipo de la variable edad es: {type(edad)}\")"
   ]
  },
  {
   "cell_type": "markdown",
   "id": "d7004d07",
   "metadata": {},
   "source": [
    "#### Floating point: \n",
    "\n",
    "Los números de coma flotante (fracciones) son de tipo `float`."
   ]
  },
  {
   "cell_type": "code",
   "execution_count": null,
   "id": "9722f830",
   "metadata": {},
   "outputs": [],
   "source": [
    "precio = 3.50\n",
    "precio = float(3.5)\n",
    "type(precio) == float"
   ]
  },
  {
   "cell_type": "markdown",
   "id": "1cce11c9",
   "metadata": {},
   "source": [
    "Existen dos funciones integradas para números: `abs()` valor absoluto y `round()` entero mas cercano."
   ]
  },
  {
   "cell_type": "code",
   "execution_count": null,
   "id": "a44b434b",
   "metadata": {},
   "outputs": [],
   "source": [
    "abs(-120)"
   ]
  },
  {
   "cell_type": "code",
   "execution_count": null,
   "id": "0fbfb21c",
   "metadata": {},
   "outputs": [],
   "source": [
    "round(1.6)"
   ]
  },
  {
   "cell_type": "code",
   "execution_count": null,
   "id": "d8a3daa1",
   "metadata": {},
   "outputs": [],
   "source": []
  }
 ],
 "metadata": {
  "colab": {
   "name": "python8020.ipynb",
   "provenance": []
  },
  "kernelspec": {
   "display_name": "Python 3 (ipykernel)",
   "language": "python",
   "name": "python3"
  },
  "language_info": {
   "codemirror_mode": {
    "name": "ipython",
    "version": 3
   },
   "file_extension": ".py",
   "mimetype": "text/x-python",
   "name": "python",
   "nbconvert_exporter": "python",
   "pygments_lexer": "ipython3",
   "version": "3.9.7"
  }
 },
 "nbformat": 4,
 "nbformat_minor": 5
}
