{
 "cells": [
  {
   "cell_type": "markdown",
   "id": "4808f7fa",
   "metadata": {},
   "source": [
    "# Python 80/20"
   ]
  },
  {
   "cell_type": "markdown",
   "id": "bf202696",
   "metadata": {},
   "source": [
    "+ Python es actualmente el lenguage de programación mas utilizado en el mundo. Es además el primer lenguage que se enseña en las universidades.\n",
    "+ Python es la mejor opción para Data Analysis, Machine Learning pero al igual es muy utilizado para juegos, aplicaciones en celulares, plataformas web, api’s y mucho mas.\n",
    "+ El ecosistema de Python es muy amplio. Existen librerías para practicamente todo lo que se pueda pensar. Por ejemplo Pandas, Numpy, SciPy, etc. Adicionalmente existen excelentes frameworks para desarrollo de aplicaciones tales como Django y Flask.\n",
    "+ Python es un lenguage interpretado de alto nivel. Esto significa que no requiere compilación previa del código para poderlo correr como si ocurre con C, C++ o Java.\n",
    "+ Python es simple y fácil, pero a la vez es muy poderoso.\n",
    "\n"
   ]
  },
  {
   "cell_type": "markdown",
   "id": "61565d64",
   "metadata": {},
   "source": [
    "### Contenido del curso\n",
    "\n",
    "+ Introducción a Python.\n",
    "+ Como instalarlo.\n",
    "+ Como ejecutar instrucciones y programas.\n",
    "+ Lo básico de Python.\n",
    "+ Tipos de datos (data types).\n",
    "+ Operadores.\n",
    "+ Strings, Boleanos, Números.\n",
    "+ Sentencias de control.\n",
    "+ Listas, Tuples, Diccionarios y Sets.\n",
    "+ Funciones.\n",
    "+ Alcance de variables.\n",
    "+ Loops.\n",
    "+ Introducción a programación orientada a objetos en Python.\n",
    "+ Uso de librerías en Python.\n",
    "+ Librería Pandas.\n",
    "+ Uso de Pandas y su interacción con Excel."
   ]
  },
  {
   "attachments": {},
   "cell_type": "markdown",
   "id": "5ddf5d00",
   "metadata": {},
   "source": [
    "## Instalación\n",
    "\n",
    "Ir a [www.python.org](https://www.python.org) y realizar el download ya sea para Windows, Mac o Linux.\n",
    "Seguir las instrucciones para la instalación.\n",
    "\n",
    "![image.png](img/python8020_1_1.png)\n",
    "\n",
    "Una vez terminada la instalación abrimos procedemos a correr nuestro primer programa en Python."
   ]
  },
  {
   "attachments": {},
   "cell_type": "markdown",
   "id": "36ab2337",
   "metadata": {},
   "source": [
    "### Ejecutar instrucciones y programas\n",
    "\n",
    "Existen varias formas de correr instrucciones y programas en Python. Entre ellas se encuentra el _Modo interactivo_ y _archivos de programa_.\n",
    "El modo interactivo se realiza a través del terrminal o ventana de comandos del sistema operativo llamando a python3.\n",
    "\n",
    "![image.png](img/python8020_1_2.png)\n",
    "\n",
    "Para crear un programa, solo tenemos que abrir cualquier editor de textos como por ejemplo el block de notas, ecribir nuestros comandos en el, guardarlo con la extensión .py y ejecultarlo desde el terminal o ventana de comandos de la siguiente forma:\n",
    "\n",
    "> python3 miPrueba.py\n",
    "\n",
    "![image-2.png](img/python8020_1_3.png)\n",
    "![image-3.png](img/python8020_1_4.png)\n",
    "\n",
    "> En documento nos permite correr instrucciones Python directamente. \n",
    "En la siguiente celda encontrarás un ejemplo. Solo ubica el cursor sobre la celda y ejecuta __run__ desde el menu de arriba como tambien podrás hacerlo tecleando __`[shift][enter]`__"
   ]
  },
  {
   "cell_type": "code",
   "execution_count": 1,
   "id": "52ffb78d",
   "metadata": {},
   "outputs": [
    {
     "name": "stdout",
     "output_type": "stream",
     "text": [
      "Hola Mundo!\n"
     ]
    }
   ],
   "source": [
    "print('Hola Mundo!')"
   ]
  },
  {
   "cell_type": "markdown",
   "id": "21ed6037",
   "metadata": {},
   "source": [
    "> De manera informativa el material de este curso esta elaborado completamente con _jupyter notebook_."
   ]
  },
  {
   "cell_type": "code",
   "execution_count": null,
   "id": "033a904d",
   "metadata": {},
   "outputs": [],
   "source": []
  }
 ],
 "metadata": {
  "kernelspec": {
   "display_name": "Python 3 (ipykernel)",
   "language": "python",
   "name": "python3"
  },
  "language_info": {
   "codemirror_mode": {
    "name": "ipython",
    "version": 3
   },
   "file_extension": ".py",
   "mimetype": "text/x-python",
   "name": "python",
   "nbconvert_exporter": "python",
   "pygments_lexer": "ipython3",
   "version": "3.9.7"
  }
 },
 "nbformat": 4,
 "nbformat_minor": 5
}
